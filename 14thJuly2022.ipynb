{
 "cells": [
  {
   "cell_type": "markdown",
   "id": "44f91789",
   "metadata": {},
   "source": [
    "# Advance Python Module"
   ]
  },
  {
   "cell_type": "markdown",
   "id": "f5613624",
   "metadata": {},
   "source": [
    "# 1.Collection "
   ]
  },
  {
   "cell_type": "code",
   "execution_count": 1,
   "id": "4f6f3798",
   "metadata": {},
   "outputs": [
    {
     "data": {
      "text/plain": [
       "Counter({1: 9, 3: 8, 2: 3})"
      ]
     },
     "execution_count": 1,
     "metadata": {},
     "output_type": "execute_result"
    }
   ],
   "source": [
    "#counter\n",
    "from collections import Counter\n",
    "mylist = [1,1,1,1,1,1,1,1,3,3,3,3,3,3,3,2,1,3,2,2]\n",
    "Counter(mylist)"
   ]
  },
  {
   "cell_type": "code",
   "execution_count": 8,
   "id": "64d79cff",
   "metadata": {},
   "outputs": [
    {
     "data": {
      "text/plain": [
       "0"
      ]
     },
     "execution_count": 8,
     "metadata": {},
     "output_type": "execute_result"
    }
   ],
   "source": [
    "#defaultdict\n",
    "from collections import defaultdict\n",
    "d = {\"ahmad\":10}\n",
    "d = defaultdict(lambda:0)\n",
    "#d[\"arslan\"]\n",
    "d[\"ahmad\"]"
   ]
  },
  {
   "cell_type": "code",
   "execution_count": 10,
   "id": "c25646cb",
   "metadata": {},
   "outputs": [],
   "source": [
    "#named tuple\n",
    "from collections import namedtuple\n",
    "Dog = namedtuple('Dog',['name','age'])\n",
    "german = Dog(name='German',age =23)\n"
   ]
  },
  {
   "cell_type": "code",
   "execution_count": 11,
   "id": "0e49b949",
   "metadata": {},
   "outputs": [
    {
     "data": {
      "text/plain": [
       "Dog(name='German', age=23)"
      ]
     },
     "execution_count": 11,
     "metadata": {},
     "output_type": "execute_result"
    }
   ],
   "source": [
    "german"
   ]
  },
  {
   "cell_type": "markdown",
   "id": "6ad2317b",
   "metadata": {},
   "source": [
    "# Opening and Reading files"
   ]
  },
  {
   "cell_type": "code",
   "execution_count": 15,
   "id": "e5efb311",
   "metadata": {},
   "outputs": [],
   "source": [
    "f = open('testing.txt','w+')\n",
    "f.write('I am writing in the file')\n",
    "f.close()"
   ]
  },
  {
   "cell_type": "code",
   "execution_count": 17,
   "id": "7680e51b",
   "metadata": {},
   "outputs": [],
   "source": [
    "import os"
   ]
  },
  {
   "cell_type": "code",
   "execution_count": 23,
   "id": "f8f9fb80",
   "metadata": {},
   "outputs": [
    {
     "data": {
      "text/plain": [
       "'C:\\\\Users\\\\muham'"
      ]
     },
     "execution_count": 23,
     "metadata": {},
     "output_type": "execute_result"
    }
   ],
   "source": [
    "os.getcwd()"
   ]
  },
  {
   "cell_type": "code",
   "execution_count": 24,
   "id": "dc9204ce",
   "metadata": {},
   "outputs": [
    {
     "data": {
      "text/plain": [
       "['-1.14-windows.xml',\n",
       " '.anaconda',\n",
       " '.android',\n",
       " '.cache',\n",
       " '.cisco',\n",
       " '.conda',\n",
       " '.condarc',\n",
       " '.continuum',\n",
       " '.eclipse',\n",
       " '.groovy',\n",
       " '.ipynb_checkpoints',\n",
       " '.ipython',\n",
       " '.jupyter',\n",
       " '.katalon',\n",
       " '.keras',\n",
       " '.lemminx',\n",
       " '.m2',\n",
       " '.matplotlib',\n",
       " '.p2',\n",
       " '.packettracer',\n",
       " '.scenebuilder',\n",
       " '.swt',\n",
       " '.VirtualBox',\n",
       " '.vscode',\n",
       " '3D Objects',\n",
       " '5th July 2022.ipynb',\n",
       " '6th July 2022.ipynb',\n",
       " 'anaconda3',\n",
       " 'AppData',\n",
       " 'Application Data',\n",
       " 'Assignment 1.ipynb',\n",
       " 'Assignment_AI.ipynb',\n",
       " 'Boss_matrix.csv',\n",
       " 'Cancer Prediction Project.ipynb',\n",
       " 'cancer.csv',\n",
       " 'Cisco Packet Tracer 6.2iv',\n",
       " 'clean_boss_matrix - Copy.csv',\n",
       " 'clean_boss_matrix.csv',\n",
       " 'Contacts',\n",
       " 'Cookies',\n",
       " 'Creative Cloud Files',\n",
       " 'data0.txt',\n",
       " 'data1.txt',\n",
       " 'Desktop',\n",
       " 'Documents',\n",
       " 'Downloads',\n",
       " 'drinks.csv',\n",
       " 'eclipse',\n",
       " 'eclipse-workspace',\n",
       " 'eclipse-workspace - Shortcut.lnk',\n",
       " 'Favorites',\n",
       " 'i190553 ai lab 11.ipynb',\n",
       " 'i191975_11.ipynb',\n",
       " 'i191995_A01.ipynb',\n",
       " 'i191995_AI_2.ipynb',\n",
       " 'i191995_AI_Lab.ipynb',\n",
       " 'i191995_lab04.ipynb',\n",
       " 'i191995_Lab09.ipynb',\n",
       " 'IntelGraphicsProfiles',\n",
       " 'Katalon Studio',\n",
       " 'Links',\n",
       " 'Local Settings',\n",
       " 'Music',\n",
       " 'My Documents',\n",
       " 'netflix_titles.csv',\n",
       " 'NetHood',\n",
       " 'NTUSER.DAT',\n",
       " 'ntuser.dat.LOG1',\n",
       " 'ntuser.dat.LOG2',\n",
       " 'NTUSER.DAT{53b39e87-18c4-11ea-a811-000d3aa4692b}.TxR.0.regtrans-ms',\n",
       " 'NTUSER.DAT{53b39e87-18c4-11ea-a811-000d3aa4692b}.TxR.1.regtrans-ms',\n",
       " 'NTUSER.DAT{53b39e87-18c4-11ea-a811-000d3aa4692b}.TxR.2.regtrans-ms',\n",
       " 'NTUSER.DAT{53b39e87-18c4-11ea-a811-000d3aa4692b}.TxR.blf',\n",
       " 'NTUSER.DAT{53b39e88-18c4-11ea-a811-000d3aa4692b}.TM.blf',\n",
       " 'NTUSER.DAT{53b39e88-18c4-11ea-a811-000d3aa4692b}.TMContainer00000000000000000001.regtrans-ms',\n",
       " 'NTUSER.DAT{53b39e88-18c4-11ea-a811-000d3aa4692b}.TMContainer00000000000000000002.regtrans-ms',\n",
       " 'ntuser.ini',\n",
       " 'OneDrive',\n",
       " 'Oracle',\n",
       " 'Pictures',\n",
       " 'prediictions.py',\n",
       " 'PrintHood',\n",
       " 'PycharmProjects',\n",
       " 'Python Practice.ipynb',\n",
       " 'PythonPractice2.ipynb',\n",
       " 'Q2.ipynb',\n",
       " 'Q3.ipynb',\n",
       " 'Q3_.ipynb',\n",
       " 'Q4.ipynb',\n",
       " 'Q6.ipynb',\n",
       " 'Recent',\n",
       " 'Roaming',\n",
       " 'Saved Games',\n",
       " 'Searches',\n",
       " 'SendTo',\n",
       " 'Start Menu',\n",
       " 'tal.csv',\n",
       " 'talha.csv',\n",
       " 'Task-5June.ipynb',\n",
       " 'Templates',\n",
       " 'test001.csv',\n",
       " 'test002.csv',\n",
       " 'test003.csv',\n",
       " 'test004.csv',\n",
       " 'test005.csv',\n",
       " 'test007.csv',\n",
       " 'testin.csv',\n",
       " 'testin1.csv',\n",
       " 'testin2.csv',\n",
       " 'Testing _muaz.ipynb',\n",
       " 'testing.csv',\n",
       " 'testing.txt',\n",
       " 'titanic.csv',\n",
       " 'u.user',\n",
       " 'ufo.csv',\n",
       " 'Untitled.ipynb',\n",
       " 'Untitled1.ipynb',\n",
       " 'Untitled10.ipynb',\n",
       " 'Untitled11.ipynb',\n",
       " 'Untitled12.ipynb',\n",
       " 'Untitled13.ipynb',\n",
       " 'Untitled14.ipynb',\n",
       " 'Untitled15.ipynb',\n",
       " 'Untitled16.ipynb',\n",
       " 'Untitled17.ipynb',\n",
       " 'Untitled18.ipynb',\n",
       " 'Untitled19.ipynb',\n",
       " 'Untitled2.ipynb',\n",
       " 'Untitled20.ipynb',\n",
       " 'Untitled3.ipynb',\n",
       " 'Untitled4.ipynb',\n",
       " 'Untitled5.ipynb',\n",
       " 'Untitled6.ipynb',\n",
       " 'Untitled7.ipynb',\n",
       " 'Untitled8.ipynb',\n",
       " 'Untitled9.ipynb',\n",
       " 'Videos',\n",
       " 'VirtualBox VMs',\n",
       " 'zakee.ctl',\n",
       " 'zakee.log',\n",
       " 'Zakee_Lab11-i191995_B.ipynb',\n",
       " 'Zotero']"
      ]
     },
     "execution_count": 24,
     "metadata": {},
     "output_type": "execute_result"
    }
   ],
   "source": [
    "os.listdir()"
   ]
  },
  {
   "cell_type": "code",
   "execution_count": 22,
   "id": "3092703a",
   "metadata": {},
   "outputs": [],
   "source": [
    "import shutil"
   ]
  },
  {
   "cell_type": "code",
   "execution_count": null,
   "id": "0963dc77",
   "metadata": {},
   "outputs": [],
   "source": [
    "#shutil.move('testin.csv','C:\\\\Users')"
   ]
  },
  {
   "cell_type": "code",
   "execution_count": 26,
   "id": "e6f625cb",
   "metadata": {},
   "outputs": [],
   "source": [
    "import send2trash"
   ]
  },
  {
   "cell_type": "code",
   "execution_count": 27,
   "id": "2f9eb673",
   "metadata": {},
   "outputs": [
    {
     "data": {
      "text/plain": [
       "['-1.14-windows.xml',\n",
       " '.anaconda',\n",
       " '.android',\n",
       " '.cache',\n",
       " '.cisco',\n",
       " '.conda',\n",
       " '.condarc',\n",
       " '.continuum',\n",
       " '.eclipse',\n",
       " '.groovy',\n",
       " '.ipynb_checkpoints',\n",
       " '.ipython',\n",
       " '.jupyter',\n",
       " '.katalon',\n",
       " '.keras',\n",
       " '.lemminx',\n",
       " '.m2',\n",
       " '.matplotlib',\n",
       " '.p2',\n",
       " '.packettracer',\n",
       " '.scenebuilder',\n",
       " '.swt',\n",
       " '.VirtualBox',\n",
       " '.vscode',\n",
       " '3D Objects',\n",
       " '5th July 2022.ipynb',\n",
       " '6th July 2022.ipynb',\n",
       " 'anaconda3',\n",
       " 'AppData',\n",
       " 'Application Data',\n",
       " 'Assignment 1.ipynb',\n",
       " 'Assignment_AI.ipynb',\n",
       " 'Boss_matrix.csv',\n",
       " 'Cancer Prediction Project.ipynb',\n",
       " 'cancer.csv',\n",
       " 'Cisco Packet Tracer 6.2iv',\n",
       " 'clean_boss_matrix - Copy.csv',\n",
       " 'clean_boss_matrix.csv',\n",
       " 'Contacts',\n",
       " 'Cookies',\n",
       " 'Creative Cloud Files',\n",
       " 'data0.txt',\n",
       " 'data1.txt',\n",
       " 'Desktop',\n",
       " 'Documents',\n",
       " 'Downloads',\n",
       " 'drinks.csv',\n",
       " 'eclipse',\n",
       " 'eclipse-workspace',\n",
       " 'eclipse-workspace - Shortcut.lnk',\n",
       " 'Favorites',\n",
       " 'i190553 ai lab 11.ipynb',\n",
       " 'i191975_11.ipynb',\n",
       " 'i191995_A01.ipynb',\n",
       " 'i191995_AI_2.ipynb',\n",
       " 'i191995_AI_Lab.ipynb',\n",
       " 'i191995_lab04.ipynb',\n",
       " 'i191995_Lab09.ipynb',\n",
       " 'IntelGraphicsProfiles',\n",
       " 'Katalon Studio',\n",
       " 'Links',\n",
       " 'Local Settings',\n",
       " 'Music',\n",
       " 'My Documents',\n",
       " 'netflix_titles.csv',\n",
       " 'NetHood',\n",
       " 'NTUSER.DAT',\n",
       " 'ntuser.dat.LOG1',\n",
       " 'ntuser.dat.LOG2',\n",
       " 'NTUSER.DAT{53b39e87-18c4-11ea-a811-000d3aa4692b}.TxR.0.regtrans-ms',\n",
       " 'NTUSER.DAT{53b39e87-18c4-11ea-a811-000d3aa4692b}.TxR.1.regtrans-ms',\n",
       " 'NTUSER.DAT{53b39e87-18c4-11ea-a811-000d3aa4692b}.TxR.2.regtrans-ms',\n",
       " 'NTUSER.DAT{53b39e87-18c4-11ea-a811-000d3aa4692b}.TxR.blf',\n",
       " 'NTUSER.DAT{53b39e88-18c4-11ea-a811-000d3aa4692b}.TM.blf',\n",
       " 'NTUSER.DAT{53b39e88-18c4-11ea-a811-000d3aa4692b}.TMContainer00000000000000000001.regtrans-ms',\n",
       " 'NTUSER.DAT{53b39e88-18c4-11ea-a811-000d3aa4692b}.TMContainer00000000000000000002.regtrans-ms',\n",
       " 'ntuser.ini',\n",
       " 'OneDrive',\n",
       " 'Oracle',\n",
       " 'Pictures',\n",
       " 'prediictions.py',\n",
       " 'PrintHood',\n",
       " 'PycharmProjects',\n",
       " 'Python Practice.ipynb',\n",
       " 'PythonPractice2.ipynb',\n",
       " 'Q2.ipynb',\n",
       " 'Q3.ipynb',\n",
       " 'Q3_.ipynb',\n",
       " 'Q4.ipynb',\n",
       " 'Q6.ipynb',\n",
       " 'Recent',\n",
       " 'Roaming',\n",
       " 'Saved Games',\n",
       " 'Searches',\n",
       " 'SendTo',\n",
       " 'Start Menu',\n",
       " 'tal.csv',\n",
       " 'talha.csv',\n",
       " 'Task-5June.ipynb',\n",
       " 'Templates',\n",
       " 'test001.csv',\n",
       " 'test002.csv',\n",
       " 'test003.csv',\n",
       " 'test004.csv',\n",
       " 'test005.csv',\n",
       " 'test007.csv',\n",
       " 'testin.csv',\n",
       " 'testin1.csv',\n",
       " 'testin2.csv',\n",
       " 'Testing _muaz.ipynb',\n",
       " 'testing.csv',\n",
       " 'testing.txt',\n",
       " 'titanic.csv',\n",
       " 'u.user',\n",
       " 'ufo.csv',\n",
       " 'Untitled.ipynb',\n",
       " 'Untitled1.ipynb',\n",
       " 'Untitled10.ipynb',\n",
       " 'Untitled11.ipynb',\n",
       " 'Untitled12.ipynb',\n",
       " 'Untitled13.ipynb',\n",
       " 'Untitled14.ipynb',\n",
       " 'Untitled15.ipynb',\n",
       " 'Untitled16.ipynb',\n",
       " 'Untitled17.ipynb',\n",
       " 'Untitled18.ipynb',\n",
       " 'Untitled19.ipynb',\n",
       " 'Untitled2.ipynb',\n",
       " 'Untitled20.ipynb',\n",
       " 'Untitled3.ipynb',\n",
       " 'Untitled4.ipynb',\n",
       " 'Untitled5.ipynb',\n",
       " 'Untitled6.ipynb',\n",
       " 'Untitled7.ipynb',\n",
       " 'Untitled8.ipynb',\n",
       " 'Untitled9.ipynb',\n",
       " 'Videos',\n",
       " 'VirtualBox VMs',\n",
       " 'zakee.ctl',\n",
       " 'zakee.log',\n",
       " 'Zakee_Lab11-i191995_B.ipynb',\n",
       " 'Zotero']"
      ]
     },
     "execution_count": 27,
     "metadata": {},
     "output_type": "execute_result"
    }
   ],
   "source": [
    "os.listdir()"
   ]
  },
  {
   "cell_type": "code",
   "execution_count": 28,
   "id": "bb3f09e9",
   "metadata": {},
   "outputs": [],
   "source": [
    "send2trash.send2trash('data0.txt')"
   ]
  },
  {
   "cell_type": "code",
   "execution_count": 29,
   "id": "727dd94f",
   "metadata": {},
   "outputs": [
    {
     "data": {
      "text/plain": [
       "['-1.14-windows.xml',\n",
       " '.anaconda',\n",
       " '.android',\n",
       " '.cache',\n",
       " '.cisco',\n",
       " '.conda',\n",
       " '.condarc',\n",
       " '.continuum',\n",
       " '.eclipse',\n",
       " '.groovy',\n",
       " '.ipynb_checkpoints',\n",
       " '.ipython',\n",
       " '.jupyter',\n",
       " '.katalon',\n",
       " '.keras',\n",
       " '.lemminx',\n",
       " '.m2',\n",
       " '.matplotlib',\n",
       " '.p2',\n",
       " '.packettracer',\n",
       " '.scenebuilder',\n",
       " '.swt',\n",
       " '.VirtualBox',\n",
       " '.vscode',\n",
       " '3D Objects',\n",
       " '5th July 2022.ipynb',\n",
       " '6th July 2022.ipynb',\n",
       " 'anaconda3',\n",
       " 'AppData',\n",
       " 'Application Data',\n",
       " 'Assignment 1.ipynb',\n",
       " 'Assignment_AI.ipynb',\n",
       " 'Boss_matrix.csv',\n",
       " 'Cancer Prediction Project.ipynb',\n",
       " 'cancer.csv',\n",
       " 'Cisco Packet Tracer 6.2iv',\n",
       " 'clean_boss_matrix - Copy.csv',\n",
       " 'clean_boss_matrix.csv',\n",
       " 'Contacts',\n",
       " 'Cookies',\n",
       " 'Creative Cloud Files',\n",
       " 'data1.txt',\n",
       " 'Desktop',\n",
       " 'Documents',\n",
       " 'Downloads',\n",
       " 'drinks.csv',\n",
       " 'eclipse',\n",
       " 'eclipse-workspace',\n",
       " 'eclipse-workspace - Shortcut.lnk',\n",
       " 'Favorites',\n",
       " 'i190553 ai lab 11.ipynb',\n",
       " 'i191975_11.ipynb',\n",
       " 'i191995_A01.ipynb',\n",
       " 'i191995_AI_2.ipynb',\n",
       " 'i191995_AI_Lab.ipynb',\n",
       " 'i191995_lab04.ipynb',\n",
       " 'i191995_Lab09.ipynb',\n",
       " 'IntelGraphicsProfiles',\n",
       " 'Katalon Studio',\n",
       " 'Links',\n",
       " 'Local Settings',\n",
       " 'Music',\n",
       " 'My Documents',\n",
       " 'netflix_titles.csv',\n",
       " 'NetHood',\n",
       " 'NTUSER.DAT',\n",
       " 'ntuser.dat.LOG1',\n",
       " 'ntuser.dat.LOG2',\n",
       " 'NTUSER.DAT{53b39e87-18c4-11ea-a811-000d3aa4692b}.TxR.0.regtrans-ms',\n",
       " 'NTUSER.DAT{53b39e87-18c4-11ea-a811-000d3aa4692b}.TxR.1.regtrans-ms',\n",
       " 'NTUSER.DAT{53b39e87-18c4-11ea-a811-000d3aa4692b}.TxR.2.regtrans-ms',\n",
       " 'NTUSER.DAT{53b39e87-18c4-11ea-a811-000d3aa4692b}.TxR.blf',\n",
       " 'NTUSER.DAT{53b39e88-18c4-11ea-a811-000d3aa4692b}.TM.blf',\n",
       " 'NTUSER.DAT{53b39e88-18c4-11ea-a811-000d3aa4692b}.TMContainer00000000000000000001.regtrans-ms',\n",
       " 'NTUSER.DAT{53b39e88-18c4-11ea-a811-000d3aa4692b}.TMContainer00000000000000000002.regtrans-ms',\n",
       " 'ntuser.ini',\n",
       " 'OneDrive',\n",
       " 'Oracle',\n",
       " 'Pictures',\n",
       " 'prediictions.py',\n",
       " 'PrintHood',\n",
       " 'PycharmProjects',\n",
       " 'Python Practice.ipynb',\n",
       " 'PythonPractice2.ipynb',\n",
       " 'Q2.ipynb',\n",
       " 'Q3.ipynb',\n",
       " 'Q3_.ipynb',\n",
       " 'Q4.ipynb',\n",
       " 'Q6.ipynb',\n",
       " 'Recent',\n",
       " 'Roaming',\n",
       " 'Saved Games',\n",
       " 'Searches',\n",
       " 'SendTo',\n",
       " 'Start Menu',\n",
       " 'tal.csv',\n",
       " 'talha.csv',\n",
       " 'Task-5June.ipynb',\n",
       " 'Templates',\n",
       " 'test001.csv',\n",
       " 'test002.csv',\n",
       " 'test003.csv',\n",
       " 'test004.csv',\n",
       " 'test005.csv',\n",
       " 'test007.csv',\n",
       " 'testin.csv',\n",
       " 'testin1.csv',\n",
       " 'testin2.csv',\n",
       " 'Testing _muaz.ipynb',\n",
       " 'testing.csv',\n",
       " 'testing.txt',\n",
       " 'titanic.csv',\n",
       " 'u.user',\n",
       " 'ufo.csv',\n",
       " 'Untitled.ipynb',\n",
       " 'Untitled1.ipynb',\n",
       " 'Untitled10.ipynb',\n",
       " 'Untitled11.ipynb',\n",
       " 'Untitled12.ipynb',\n",
       " 'Untitled13.ipynb',\n",
       " 'Untitled14.ipynb',\n",
       " 'Untitled15.ipynb',\n",
       " 'Untitled16.ipynb',\n",
       " 'Untitled17.ipynb',\n",
       " 'Untitled18.ipynb',\n",
       " 'Untitled19.ipynb',\n",
       " 'Untitled2.ipynb',\n",
       " 'Untitled20.ipynb',\n",
       " 'Untitled3.ipynb',\n",
       " 'Untitled4.ipynb',\n",
       " 'Untitled5.ipynb',\n",
       " 'Untitled6.ipynb',\n",
       " 'Untitled7.ipynb',\n",
       " 'Untitled8.ipynb',\n",
       " 'Untitled9.ipynb',\n",
       " 'Videos',\n",
       " 'VirtualBox VMs',\n",
       " 'zakee.ctl',\n",
       " 'zakee.log',\n",
       " 'Zakee_Lab11-i191995_B.ipynb',\n",
       " 'Zotero']"
      ]
     },
     "execution_count": 29,
     "metadata": {},
     "output_type": "execute_result"
    }
   ],
   "source": [
    "os.listdir()"
   ]
  },
  {
   "cell_type": "markdown",
   "id": "5f790605",
   "metadata": {},
   "source": [
    "# DateTime Module "
   ]
  },
  {
   "cell_type": "code",
   "execution_count": 30,
   "id": "693f26cc",
   "metadata": {},
   "outputs": [],
   "source": [
    "#datetime \n",
    "import datetime"
   ]
  },
  {
   "cell_type": "code",
   "execution_count": 31,
   "id": "58be6ecf",
   "metadata": {},
   "outputs": [],
   "source": [
    "mydate = datetime.time(2) "
   ]
  },
  {
   "cell_type": "code",
   "execution_count": 32,
   "id": "843b198e",
   "metadata": {},
   "outputs": [
    {
     "data": {
      "text/plain": [
       "2"
      ]
     },
     "execution_count": 32,
     "metadata": {},
     "output_type": "execute_result"
    }
   ],
   "source": [
    "mydate.hour"
   ]
  },
  {
   "cell_type": "code",
   "execution_count": 33,
   "id": "0aa382d7",
   "metadata": {},
   "outputs": [
    {
     "data": {
      "text/plain": [
       "0"
      ]
     },
     "execution_count": 33,
     "metadata": {},
     "output_type": "execute_result"
    }
   ],
   "source": [
    "mydate.minute"
   ]
  },
  {
   "cell_type": "code",
   "execution_count": 34,
   "id": "bc4c47eb",
   "metadata": {},
   "outputs": [
    {
     "data": {
      "text/plain": [
       "datetime.time(2, 0)"
      ]
     },
     "execution_count": 34,
     "metadata": {},
     "output_type": "execute_result"
    }
   ],
   "source": [
    "mydate"
   ]
  },
  {
   "cell_type": "code",
   "execution_count": 35,
   "id": "4f91c39e",
   "metadata": {},
   "outputs": [
    {
     "name": "stdout",
     "output_type": "stream",
     "text": [
      "02:00:00\n"
     ]
    }
   ],
   "source": [
    "print(mydate)"
   ]
  },
  {
   "cell_type": "code",
   "execution_count": 36,
   "id": "39a9566b",
   "metadata": {},
   "outputs": [],
   "source": [
    "today = datetime.date.today()"
   ]
  },
  {
   "cell_type": "code",
   "execution_count": 37,
   "id": "64e7f5ca",
   "metadata": {},
   "outputs": [
    {
     "name": "stdout",
     "output_type": "stream",
     "text": [
      "2022-07-14\n"
     ]
    }
   ],
   "source": [
    "print(today)"
   ]
  },
  {
   "cell_type": "code",
   "execution_count": 38,
   "id": "19f20dde",
   "metadata": {},
   "outputs": [
    {
     "data": {
      "text/plain": [
       "'Thu Jul 14 00:00:00 2022'"
      ]
     },
     "execution_count": 38,
     "metadata": {},
     "output_type": "execute_result"
    }
   ],
   "source": [
    "today.ctime()"
   ]
  },
  {
   "cell_type": "code",
   "execution_count": 39,
   "id": "ce82c3a0",
   "metadata": {},
   "outputs": [],
   "source": [
    "from datetime import datetime"
   ]
  },
  {
   "cell_type": "code",
   "execution_count": 40,
   "id": "ebf3ba9d",
   "metadata": {},
   "outputs": [],
   "source": [
    "mydatetime = datetime(2021,10,10,12,12,1)\n",
    "\n"
   ]
  },
  {
   "cell_type": "code",
   "execution_count": 41,
   "id": "17476b8e",
   "metadata": {},
   "outputs": [
    {
     "name": "stdout",
     "output_type": "stream",
     "text": [
      "2021-10-10 12:12:01\n"
     ]
    }
   ],
   "source": [
    "print(mydatetime)"
   ]
  },
  {
   "cell_type": "code",
   "execution_count": 42,
   "id": "5276c523",
   "metadata": {},
   "outputs": [
    {
     "data": {
      "text/plain": [
       "datetime.datetime(2020, 10, 10, 12, 12, 1)"
      ]
     },
     "execution_count": 42,
     "metadata": {},
     "output_type": "execute_result"
    }
   ],
   "source": [
    "mydatetime.replace(year =2020)"
   ]
  },
  {
   "cell_type": "markdown",
   "id": "d9f3b4ee",
   "metadata": {},
   "source": [
    "# Regular Expression"
   ]
  },
  {
   "cell_type": "code",
   "execution_count": 55,
   "id": "38f96ad9",
   "metadata": {},
   "outputs": [],
   "source": [
    "import re"
   ]
  },
  {
   "cell_type": "code",
   "execution_count": 56,
   "id": "1bb65d54",
   "metadata": {},
   "outputs": [],
   "source": [
    "pattern = 'number'\n",
    "text = 'my number is 234-234-1234'"
   ]
  },
  {
   "cell_type": "code",
   "execution_count": 57,
   "id": "64906990",
   "metadata": {},
   "outputs": [
    {
     "data": {
      "text/plain": [
       "<re.Match object; span=(3, 9), match='number'>"
      ]
     },
     "execution_count": 57,
     "metadata": {},
     "output_type": "execute_result"
    }
   ],
   "source": [
    "re.search(pattern,text)"
   ]
  },
  {
   "cell_type": "code",
   "execution_count": 58,
   "id": "9c221f38",
   "metadata": {},
   "outputs": [],
   "source": [
    "text1= '234-234-1234'"
   ]
  },
  {
   "cell_type": "code",
   "execution_count": 59,
   "id": "f01eb006",
   "metadata": {},
   "outputs": [],
   "source": [
    "phone = re.search(r'\\d{3}-\\d{3}-d{4}',text1)"
   ]
  },
  {
   "cell_type": "code",
   "execution_count": 61,
   "id": "a1502bc7",
   "metadata": {},
   "outputs": [],
   "source": [
    "phone_pattern = re.compile(r'(\\d{3})-(\\d{3})-(\\d{4})')"
   ]
  },
  {
   "cell_type": "code",
   "execution_count": 62,
   "id": "bc08900a",
   "metadata": {},
   "outputs": [],
   "source": [
    "results = re.search(phone_pattern,text1)"
   ]
  },
  {
   "cell_type": "code",
   "execution_count": 63,
   "id": "5be694be",
   "metadata": {},
   "outputs": [
    {
     "data": {
      "text/plain": [
       "'234-234-1234'"
      ]
     },
     "execution_count": 63,
     "metadata": {},
     "output_type": "execute_result"
    }
   ],
   "source": [
    "results.group()"
   ]
  },
  {
   "cell_type": "code",
   "execution_count": 64,
   "id": "374a48aa",
   "metadata": {},
   "outputs": [
    {
     "data": {
      "text/plain": [
       "['cat', 'hat']"
      ]
     },
     "execution_count": 64,
     "metadata": {},
     "output_type": "execute_result"
    }
   ],
   "source": [
    "re.findall(r'.at','the cat is wearing the hat')"
   ]
  },
  {
   "cell_type": "markdown",
   "id": "639d5ed2",
   "metadata": {},
   "source": [
    "# Timing of Code "
   ]
  },
  {
   "cell_type": "code",
   "execution_count": 68,
   "id": "b6feb4cc",
   "metadata": {},
   "outputs": [],
   "source": [
    "def func_one(n):\n",
    "    return [str(num) for num in range(n)]\n",
    "\n",
    "def func_two(n):\n",
    "    return list(map(str,range(n)))\n",
    "    \n",
    "    "
   ]
  },
  {
   "cell_type": "code",
   "execution_count": 66,
   "id": "d0b8f9ff",
   "metadata": {},
   "outputs": [
    {
     "data": {
      "text/plain": [
       "['0', '1', '2', '3', '4', '5', '6', '7', '8', '9']"
      ]
     },
     "execution_count": 66,
     "metadata": {},
     "output_type": "execute_result"
    }
   ],
   "source": [
    "func_one(10)"
   ]
  },
  {
   "cell_type": "code",
   "execution_count": 69,
   "id": "c7b26126",
   "metadata": {},
   "outputs": [
    {
     "data": {
      "text/plain": [
       "['0', '1', '2', '3', '4', '5', '6', '7', '8', '9']"
      ]
     },
     "execution_count": 69,
     "metadata": {},
     "output_type": "execute_result"
    }
   ],
   "source": [
    "func_two(10)"
   ]
  },
  {
   "cell_type": "code",
   "execution_count": 70,
   "id": "14219258",
   "metadata": {},
   "outputs": [],
   "source": [
    "import time"
   ]
  },
  {
   "cell_type": "code",
   "execution_count": 74,
   "id": "b0ad5c76",
   "metadata": {},
   "outputs": [
    {
     "name": "stdout",
     "output_type": "stream",
     "text": [
      "1.5417516231536865\n"
     ]
    }
   ],
   "source": [
    "#calculating time one way \n",
    "start_time = time.time()\n",
    "func_one(10000000)\n",
    "end_time = time.time()\n",
    "elapsed_time = end_time - start_time\n",
    "print (elapsed_time)"
   ]
  },
  {
   "cell_type": "code",
   "execution_count": 75,
   "id": "42b850c4",
   "metadata": {},
   "outputs": [],
   "source": [
    "import timeit"
   ]
  },
  {
   "cell_type": "code",
   "execution_count": 76,
   "id": "c3dd2a36",
   "metadata": {},
   "outputs": [],
   "source": [
    "stmt = '''\n",
    "func_one(1000)\n",
    "'''"
   ]
  },
  {
   "cell_type": "code",
   "execution_count": 77,
   "id": "c10a9275",
   "metadata": {},
   "outputs": [],
   "source": [
    "setup = '''\n",
    "def func_one(n):\n",
    "    return [str(num) for num in range(n)]\n",
    "'''"
   ]
  },
  {
   "cell_type": "code",
   "execution_count": 78,
   "id": "4d977ece",
   "metadata": {},
   "outputs": [
    {
     "data": {
      "text/plain": [
       "1.5168690999998944"
      ]
     },
     "execution_count": 78,
     "metadata": {},
     "output_type": "execute_result"
    }
   ],
   "source": [
    "timeit.timeit(stmt,setup,number= 10000)"
   ]
  },
  {
   "cell_type": "code",
   "execution_count": 81,
   "id": "c9ab7584",
   "metadata": {},
   "outputs": [
    {
     "name": "stdout",
     "output_type": "stream",
     "text": [
      "12.3 µs ± 260 ns per loop (mean ± std. dev. of 7 runs, 100000 loops each)\n"
     ]
    }
   ],
   "source": [
    "%%timeit\n",
    "func_two(100)"
   ]
  },
  {
   "cell_type": "code",
   "execution_count": 82,
   "id": "4f2f1789",
   "metadata": {},
   "outputs": [
    {
     "name": "stdout",
     "output_type": "stream",
     "text": [
      "15.6 µs ± 254 ns per loop (mean ± std. dev. of 7 runs, 100000 loops each)\n"
     ]
    }
   ],
   "source": [
    "%%timeit\n",
    "func_one(100)"
   ]
  },
  {
   "cell_type": "markdown",
   "id": "0b56f1fb",
   "metadata": {},
   "source": [
    "# Zipping and Unzipping files"
   ]
  },
  {
   "cell_type": "code",
   "execution_count": 83,
   "id": "b25381c9",
   "metadata": {},
   "outputs": [],
   "source": [
    "f = open('fileone.txt','w+')\n",
    "f.write('testing')\n",
    "f.close()\n"
   ]
  },
  {
   "cell_type": "code",
   "execution_count": 84,
   "id": "7bfc80b3",
   "metadata": {},
   "outputs": [],
   "source": [
    "f = open('filetwo.txt','w+')\n",
    "f.write('testing2')\n",
    "f.close()\n"
   ]
  },
  {
   "cell_type": "code",
   "execution_count": 89,
   "id": "3c2ce296",
   "metadata": {},
   "outputs": [],
   "source": [
    "import zipfile"
   ]
  },
  {
   "cell_type": "code",
   "execution_count": 90,
   "id": "b6ffe825",
   "metadata": {},
   "outputs": [],
   "source": [
    "comp_file = zipfile.ZipFile('comp_zip_file','w')"
   ]
  },
  {
   "cell_type": "code",
   "execution_count": 91,
   "id": "cba3a1a6",
   "metadata": {},
   "outputs": [],
   "source": [
    "\n",
    "comp_file.write('fileone.txt',compress_type = zipfile.ZIP_DEFLATED)"
   ]
  },
  {
   "cell_type": "code",
   "execution_count": 92,
   "id": "70b08f3f",
   "metadata": {},
   "outputs": [],
   "source": [
    "comp_file.write('filetwo.txt',compress_type = zipfile.ZIP_DEFLATED)"
   ]
  },
  {
   "cell_type": "code",
   "execution_count": 93,
   "id": "4d0824f0",
   "metadata": {},
   "outputs": [],
   "source": [
    "comp_file.close()"
   ]
  },
  {
   "cell_type": "code",
   "execution_count": 94,
   "id": "f7f178f0",
   "metadata": {},
   "outputs": [],
   "source": [
    "zip_obj=zipfile.ZipFile('comp_zip_file','r')\n"
   ]
  },
  {
   "cell_type": "code",
   "execution_count": 96,
   "id": "3f780ac9",
   "metadata": {},
   "outputs": [],
   "source": [
    "zip_obj.extractall('extracted')"
   ]
  }
 ],
 "metadata": {
  "kernelspec": {
   "display_name": "Python 3 (ipykernel)",
   "language": "python",
   "name": "python3"
  },
  "language_info": {
   "codemirror_mode": {
    "name": "ipython",
    "version": 3
   },
   "file_extension": ".py",
   "mimetype": "text/x-python",
   "name": "python",
   "nbconvert_exporter": "python",
   "pygments_lexer": "ipython3",
   "version": "3.9.7"
  }
 },
 "nbformat": 4,
 "nbformat_minor": 5
}
